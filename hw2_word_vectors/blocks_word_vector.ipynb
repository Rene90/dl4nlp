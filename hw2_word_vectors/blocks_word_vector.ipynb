{
 "cells": [
  {
   "cell_type": "code",
   "execution_count": 90,
   "metadata": {
    "collapsed": false
   },
   "outputs": [],
   "source": [
    "import numpy as np\n",
    "import pandas as pd\n",
    "\n",
    "import zipfile\n",
    "\n",
    "from theano import tensor\n",
    "\n",
    "import fuel\n",
    "import h5py\n",
    "from fuel.datasets.hdf5 import H5PYDataset\n",
    "from fuel.streams import DataStream\n",
    "from fuel.schemes import SequentialScheme\n",
    "\n",
    "from blocks.bricks import Linear, Softmax\n",
    "from blocks.bricks.lookup import LookupTable\n",
    "from blocks.bricks.cost import CategoricalCrossEntropy\n",
    "from blocks.initialization import IsotropicGaussian, Constant\n",
    "\n",
    "from blocks.filter import VariableFilter\n",
    "from blocks.roles import WEIGHT\n",
    "from blocks.graph import ComputationGraph\n",
    "\n",
    "from blocks.main_loop import MainLoop\n",
    "from blocks.algorithms import GradientDescent, AdaGrad\n",
    "\n",
    "from blocks.extensions import FinishAfter, Printing, ProgressBar\n",
    "from blocks.extensions.monitoring import TrainingDataMonitoring\n",
    "from blocks_extras.extensions.plot import Plot\n",
    "\n",
    "%matplotlib inline"
   ]
  },
  {
   "cell_type": "code",
   "execution_count": 60,
   "metadata": {
    "collapsed": true
   },
   "outputs": [],
   "source": [
    "from blocks.extensions import SimpleExtension\n",
    "\n",
    "class SaveWeights(SimpleExtension):\n",
    "    def __init__(self, layers, prefixes, **kwargs):\n",
    "        kwargs.setdefault(\"after_epoch\", True)\n",
    "        super(SaveWeights, self).__init__(**kwargs)\n",
    "        self.step = 1\n",
    "        self.layers = layers\n",
    "        self.prefixes = prefixes\n",
    "\n",
    "    def do(self, callback_name, *args):\n",
    "        for i in xrange(len(self.layers)):\n",
    "            filename = \"%s_%d.npy\" % (self.prefixes[i], self.step)\n",
    "            np.save(filename, self.layers[i].get_value())\n",
    "        self.step += 1"
   ]
  },
  {
   "cell_type": "code",
   "execution_count": 19,
   "metadata": {
    "collapsed": false
   },
   "outputs": [],
   "source": [
    "filename = \"./data/text8.zip\"\n",
    "\n",
    "def read_data(filename):\n",
    "  f = zipfile.ZipFile(filename)\n",
    "  for name in f.namelist():\n",
    "    return f.read(name).split()\n",
    "  f.close()\n",
    "  \n",
    "#words = read_data(filename)\n",
    "#print 'Data size', len(words)"
   ]
  },
  {
   "cell_type": "code",
   "execution_count": 50,
   "metadata": {
    "collapsed": false
   },
   "outputs": [
    {
     "name": "stdout",
     "output_type": "stream",
     "text": [
      "7\n",
      "(array([0, 1, 2, 0, 3, 0, 3, 2, 0, 1, 0, 4, 5, 0, 1, 0, 3, 5, 0, 4, 0, 4, 6,\n",
      "       0, 1, 0, 4, 6, 0, 3]), array(['the', 'king', 'loves', 'queen', 'dwarf', 'hates', 'poisons'], dtype=object))\n"
     ]
    }
   ],
   "source": [
    "from fuel.datasets.base import Dataset\n",
    "\n",
    "class WordWindow(Dataset):\n",
    "    def __init__(self, **kwargs):\n",
    "        self.provides_sources = ('features', 'targets')\n",
    "         # for technical reasons\n",
    "        self.axis_labels = None\n",
    "        with self.open() as fh:\n",
    "            self.corpus = fh.read().split()\n",
    "        #print self.corpus \n",
    "        self.vocabulary_size = len(set(self.corpus))\n",
    "        self.vocabulary = pd.factorize(self.corpus)\n",
    "        self.num_instances = len([((self.vocabulary[0][i],self.vocabulary[0][i+2]),self.vocabulary[0][i+1]) for i in xrange(len(self.corpus)-2)])\n",
    "        super(WordWindow, self).__init__(**kwargs)\n",
    "    \n",
    "    def get_data(self, state=None, request=None):\n",
    "        data = [((self.vocabulary[0][i],self.vocabulary[0][i+2]),self.vocabulary[0][i+1]) for i in xrange(len(self.corpus)-2)]\n",
    "        x, y = zip(*data)\n",
    "        return np.array(x, dtype=np.int32), np.array(y, dtype=np.int32)\n",
    "\n",
    "    def open(self):\n",
    "        return open('./data/small')\n",
    "    \n",
    "    def close(self,fh):\n",
    "        fh.close()\n",
    "    \n",
    "dataset = WordWindow()\n",
    "print dataset.vocabulary_size\n",
    "print dataset.vocabulary"
   ]
  },
  {
   "cell_type": "code",
   "execution_count": 51,
   "metadata": {
    "collapsed": false
   },
   "outputs": [
    {
     "data": {
      "text/plain": [
       "(array([[0, 2],\n",
       "        [1, 0],\n",
       "        [2, 3],\n",
       "        [0, 0],\n",
       "        [3, 3],\n",
       "        [0, 2],\n",
       "        [3, 0],\n",
       "        [2, 1],\n",
       "        [0, 0],\n",
       "        [1, 4],\n",
       "        [0, 5],\n",
       "        [4, 0],\n",
       "        [5, 1],\n",
       "        [0, 0],\n",
       "        [1, 3],\n",
       "        [0, 5],\n",
       "        [3, 0],\n",
       "        [5, 4],\n",
       "        [0, 0],\n",
       "        [4, 4],\n",
       "        [0, 6],\n",
       "        [4, 0],\n",
       "        [6, 1],\n",
       "        [0, 0],\n",
       "        [1, 4],\n",
       "        [0, 6],\n",
       "        [4, 0],\n",
       "        [6, 3]], dtype=int32),\n",
       " array([1, 2, 0, 3, 0, 3, 2, 0, 1, 0, 4, 5, 0, 1, 0, 3, 5, 0, 4, 0, 4, 6, 0,\n",
       "        1, 0, 4, 6, 0], dtype=int32))"
      ]
     },
     "execution_count": 51,
     "metadata": {},
     "output_type": "execute_result"
    }
   ],
   "source": [
    "dataset.get_data()"
   ]
  },
  {
   "cell_type": "code",
   "execution_count": 75,
   "metadata": {
    "collapsed": false
   },
   "outputs": [],
   "source": [
    "VOCAB_DIM = dataset.vocabulary_size\n",
    "EMBEDDING_DIM = min(5,VOCAB_DIM)\n",
    "CONTEXT = 1\n",
    "\n",
    "def makeGraph():\n",
    "    Xs = tensor.lmatrix(\"features\")\n",
    "    y = tensor.ivector('targets')\n",
    "        \n",
    "    w1 = LookupTable(name=\"w1\", length=VOCAB_DIM, dim=EMBEDDING_DIM)\n",
    "    w2 = Linear(name='w2', input_dim=EMBEDDING_DIM, output_dim=VOCAB_DIM)\n",
    "\n",
    "    hidden = tensor.mean(w1.apply(Xs), axis=1)\n",
    "    y_hat = Softmax().apply(w2.apply(hidden))\n",
    "    \n",
    "    w1.weights_init = w2.weights_init = IsotropicGaussian(0.01)\n",
    "    w1.biases_init = w2.biases_init = Constant(0)\n",
    "    w1.initialize()\n",
    "    w2.initialize()\n",
    "    \n",
    "    cost = CategoricalCrossEntropy().apply(y, y_hat)\n",
    "    \n",
    "    cg = ComputationGraph(cost)\n",
    "    W1, W2 = VariableFilter(roles=[WEIGHT])(cg.variables)\n",
    "    \n",
    "    cost = cost + 0.005 * (W1 ** 2).sum() + 0.005 * (W2 ** 2).sum()\n",
    "    cost.name = \"loss\"\n",
    "\n",
    "    \n",
    "    \n",
    "    return cg,(W1,W2),cost"
   ]
  },
  {
   "cell_type": "code",
   "execution_count": 92,
   "metadata": {
    "collapsed": false
   },
   "outputs": [
    {
     "name": "stderr",
     "output_type": "stream",
     "text": [
      "\r",
      "Epoch 0, step 1 |                                       | Elapsed Time: 0:00:00\r",
      "Epoch 0, step 1 |                                       | Elapsed Time: 0:00:00\n",
      "\r",
      "Epoch 1, step 1 |                                       | Elapsed Time: 0:00:00\r",
      "Epoch 1, step 1 |                                       | Elapsed Time: 0:00:00\n",
      "\r",
      "Epoch 2, step 1 |                                       | Elapsed Time: 0:00:00\r",
      "Epoch 2, step 1 |                                       | Elapsed Time: 0:00:00\n",
      "\r",
      "Epoch 3, step 1 |                                       | Elapsed Time: 0:00:00\r",
      "Epoch 3, step 1 |                                       | Elapsed Time: 0:00:00\n",
      "\r",
      "Epoch 4, step 1 |                                       | Elapsed Time: 0:00:00\r",
      "Epoch 4, step 1 |                                       | Elapsed Time: 0:00:00\n",
      "\r",
      "Epoch 5, step 1 |                                       | Elapsed Time: 0:00:00\r",
      "Epoch 5, step 1 |                                       | Elapsed Time: 0:00:00\n",
      "\r",
      "Epoch 6, step 1 |                                       | Elapsed Time: 0:00:00\r",
      "Epoch 6, step 1 |                                       | Elapsed Time: 0:00:00\n",
      "\r",
      "Epoch 7, step 1 |                                       | Elapsed Time: 0:00:00\r",
      "Epoch 7, step 1 |                                       | Elapsed Time: 0:00:00\n",
      "\r",
      "Epoch 8, step 1 |                                       | Elapsed Time: 0:00:00\r",
      "Epoch 8, step 1 |                                       | Elapsed Time: 0:00:00\n",
      "\r",
      "Epoch 9, step 1 |                                       | Elapsed Time: 0:00:00\r",
      "Epoch 9, step 1 |                                       | Elapsed Time: 0:00:00\n"
     ]
    }
   ],
   "source": [
    "cg, (W1, W2), cost = makeGraph()\n",
    "main = MainLoop(data_stream = DataStream(\n",
    "                    dataset,\n",
    "                    iteration_scheme=SequentialScheme(dataset.num_instances, batch_size=50)),\n",
    "                algorithm = GradientDescent(\n",
    "                    cost = cost, \n",
    "                    parameters = cg.parameters,\n",
    "                    step_rule = AdaGrad()),\n",
    "                extensions = [\n",
    "                    ProgressBar(),\n",
    "                    FinishAfter(after_n_epochs=10),\n",
    "                    #Printing(),\n",
    "                    TrainingDataMonitoring(variables=[cost], after_batch=True),\n",
    "                    SaveWeights(layers=[W1, W2], prefixes=[\"./w1\",\"./w2\"]),\n",
    "])\n",
    "\n",
    "main.run()"
   ]
  },
  {
   "cell_type": "code",
   "execution_count": 93,
   "metadata": {
    "collapsed": false
   },
   "outputs": [],
   "source": [
    "#np.load(\"w1_1.npy\")"
   ]
  },
  {
   "cell_type": "code",
   "execution_count": 94,
   "metadata": {
    "collapsed": false
   },
   "outputs": [],
   "source": [
    "#np.load(\"w1_2.npy\")"
   ]
  },
  {
   "cell_type": "code",
   "execution_count": 95,
   "metadata": {
    "collapsed": false
   },
   "outputs": [],
   "source": [
    "word_vectors = (W1.get_value() + W2.get_value().T) / 2"
   ]
  },
  {
   "cell_type": "code",
   "execution_count": 96,
   "metadata": {
    "collapsed": false
   },
   "outputs": [
    {
     "data": {
      "image/png": "[encoded data removed]",
      "text/plain": [
       "<matplotlib.figure.Figure at 0x7f476bcdce50>"
      ]
     },
     "metadata": {},
     "output_type": "display_data"
    }
   ],
   "source": [
    "import matplotlib.pyplot as plt\n",
    "from sklearn.decomposition import PCA\n",
    "pca = PCA(n_components=2)\n",
    "low_dim_embs = pca.fit_transform(word_vectors)\n",
    "\n",
    "labels = dataset.vocabulary[1]\n",
    "\n",
    "plt.figure(figsize=(18, 18))  #in inches\n",
    "for i, label in enumerate(labels):\n",
    "    x, y = low_dim_embs[i,:]\n",
    "    plt.scatter(x, y)\n",
    "    plt.annotate(label,\n",
    "                 xy=(x, y),\n",
    "                 xytext=(5, 2),\n",
    "                 textcoords='offset points',\n",
    "                 ha='right',\n",
    "                 va='bottom')"
   ]
  },
  {
   "cell_type": "code",
   "execution_count": null,
   "metadata": {
    "collapsed": true
   },
   "outputs": [],
   "source": []
  }
 ],
 "metadata": {
  "kernelspec": {
   "display_name": "Python 2",
   "language": "python",
   "name": "python2"
  },
  "language_info": {
   "codemirror_mode": {
    "name": "ipython",
    "version": 2
   },
   "file_extension": ".py",
   "mimetype": "text/x-python",
   "name": "python",
   "nbconvert_exporter": "python",
   "pygments_lexer": "ipython2",
   "version": "2.7.11"
  }
 },
 "nbformat": 4,
 "nbformat_minor": 0
}
