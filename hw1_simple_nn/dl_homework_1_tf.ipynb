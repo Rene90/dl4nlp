{
 "cells": [
  {
   "cell_type": "code",
   "execution_count": 1,
   "metadata": {
    "collapsed": true
   },
   "outputs": [],
   "source": [
    "import numpy as np\n",
    "import pandas as pd\n",
    "\n",
    "import tensorflow as tf"
   ]
  },
  {
   "cell_type": "code",
   "execution_count": 2,
   "metadata": {
    "collapsed": false
   },
   "outputs": [],
   "source": [
    "header = [\"label\", \"cap-shape\",\"cap-surface\", \"cap-color\", \"bruises\", \"odor\", \"gill-attachment\", \"gill-spacing\", \"gill-size\", \"gill-color\",\n",
    "\"stalk-shape\", \"stalk-root\", \"stalk-surface-above-ring\", \"stalk-surface-below-ring\", \"stalk-color-above-ring\",\n",
    "\"stalk-color-below-ring\", \"veil-type\", \"veil-color\", \"ring-number\", \"ring-type\", \"spore-print-color\", \"population\",\n",
    "\"habitat\"]\n",
    "\n",
    "def makeOneHot(col):\n",
    "    vals,idx = pd.factorize(col)\n",
    "    res = np.zeros((len(vals),len(idx)))\n",
    "    res[range(len(vals)),vals] = 1\n",
    "    return res\n",
    "\n",
    "def makeOrdinal(col):\n",
    "    vals,idx = pd.factorize(col)\n",
    "    return vals.reshape(len(vals),1)\n",
    "\n",
    "def loadData():\n",
    "    df = pd.read_csv(\"./agaricus-lepiota.data\", header=0, names=header)\n",
    "    X = np.hstack([makeOneHot(df[c]) for c in header[1:]])\n",
    "    y = makeOneHot(df[header[0]])\n",
    "    \n",
    "    return X.astype(np.float32), y.astype(np.float32)\n",
    "\n",
    "def loadData2():\n",
    "    df = pd.read_csv(\"./agaricus-lepiota.data\", header=0, names=header)\n",
    "    X = np.hstack([makeOrdinal(df[c]) for c in header[1:]])\n",
    "    y = makeOneHot(df[header[0]])\n",
    "    \n",
    "    return X.astype(np.float32), y.astype(np.float32)\n",
    "\n",
    "def randomizeData(X,y):\n",
    "    num_instances = X.shape[0]\n",
    "    indices = np.random.permutation(num_instances)\n",
    "    return X[indices,:], y[indices]\n",
    "\n",
    "X, y = loadData()\n",
    "X, y = randomizeData(X,y)\n",
    "\n",
    "#print len(header)\n",
    "#print X.shape, y.shape\n",
    "#print X, y"
   ]
  },
  {
   "cell_type": "code",
   "execution_count": 3,
   "metadata": {
    "collapsed": false
   },
   "outputs": [
    {
     "name": "stdout",
     "output_type": "stream",
     "text": [
      "(6498, 117) (6498, 2)\n"
     ]
    }
   ],
   "source": [
    "split = int(X.shape[0]*0.8)\n",
    "\n",
    "X_train = X[:split,:]\n",
    "y_train = y[:split]\n",
    "X_test  = X[split:,:]\n",
    "y_test  = y[split:]\n",
    "\n",
    "print X_train.shape, y_train.shape"
   ]
  },
  {
   "cell_type": "code",
   "execution_count": 4,
   "metadata": {
    "collapsed": false
   },
   "outputs": [],
   "source": [
    "num_features = X.shape[1]\n",
    "num_labels   = y.shape[1]\n",
    "\n",
    "graph = tf.Graph()\n",
    "with graph.as_default():\n",
    "    # Input data.\n",
    "    # Load the training, validation and test data into constants that are\n",
    "    # attached to the graph.\n",
    "    Xtr = tf.constant(X_train)\n",
    "    ytr = tf.constant(y_train)\n",
    "    Xts = tf.constant(X_test)\n",
    "    \n",
    "    # Variables.\n",
    "    # These are the parameters that we are going to be training. The weight\n",
    "    # matrix will be initialized using random valued following a (truncated)\n",
    "    # normal distribution. The biases get initialized to zero.\n",
    "    weights = tf.Variable(tf.truncated_normal([num_features, num_labels]))\n",
    "    biases  = tf.Variable(tf.zeros([num_labels]))\n",
    "\n",
    "    # Training computation.\n",
    "    # We multiply the inputs with the weight matrix, and add biases. We compute\n",
    "    # the softmax and cross-entropy (it's one operation in TensorFlow, because\n",
    "    # it's very common, and it can be optimized). We take the average of this\n",
    "    # cross-entropy across all training examples: that's our loss.\n",
    "    logits = tf.matmul(Xtr, weights) + biases\n",
    "    loss = tf.reduce_mean(tf.nn.softmax_cross_entropy_with_logits(logits, ytr))\n",
    "\n",
    "    # Optimizer.\n",
    "    # We are going to find the minimum of this loss using gradient descent.\n",
    "    optimizer = tf.train.GradientDescentOptimizer(0.05).minimize(loss)\n",
    "\n",
    "    # Predictions for the training, validation, and test data.\n",
    "    # These are not part of training, but merely here so that we can report\n",
    "    # accuracy figures as we train.\n",
    "    train_prediction = tf.nn.softmax(logits)\n",
    "    test_prediction = tf.nn.softmax(tf.matmul(Xts, weights) + biases)"
   ]
  },
  {
   "cell_type": "code",
   "execution_count": 5,
   "metadata": {
    "collapsed": false
   },
   "outputs": [
    {
     "name": "stdout",
     "output_type": "stream",
     "text": [
      "Initialized\n",
      "Loss at step 0 : 4.43674\n",
      "Training accuracy: 22.3%\n",
      "Loss at step 100 : 0.538355\n",
      "Training accuracy: 79.0%\n",
      "Loss at step 200 : 0.309362\n",
      "Training accuracy: 88.8%\n",
      "Loss at step 300 : 0.224843\n",
      "Training accuracy: 91.8%\n",
      "Loss at step 400 : 0.181071\n",
      "Training accuracy: 93.6%\n",
      "Loss at step 500 : 0.154121\n",
      "Training accuracy: 94.6%\n",
      "Loss at step 600 : 0.135362\n",
      "Training accuracy: 95.3%\n",
      "Loss at step 700 : 0.121155\n",
      "Training accuracy: 95.8%\n",
      "Loss at step 800 : 0.109772\n",
      "Training accuracy: 96.2%\n",
      "Test accuracy: 95.9%\n"
     ]
    }
   ],
   "source": [
    "num_steps = 801\n",
    "\n",
    "def accuracy(predictions, labels):\n",
    "  return (100.0 * np.sum(np.argmax(predictions, 1) == np.argmax(labels, 1))\n",
    "          / predictions.shape[0])\n",
    "\n",
    "with tf.Session(graph=graph) as session:\n",
    "  # This is a one-time operation which ensures the parameters get initialized as\n",
    "  # we described in the graph: random weights for the matrix, zeros for the\n",
    "  # biases. \n",
    "  tf.initialize_all_variables().run()\n",
    "  print 'Initialized'\n",
    "  for step in xrange(num_steps):\n",
    "    # Run the computations. We tell .run() that we want to run the optimizer,\n",
    "    # and get the loss value and the training predictions returned as numpy\n",
    "    # arrays.\n",
    "    _, l, predictions = session.run([optimizer, loss, train_prediction])\n",
    "    if (step % 100 == 0):\n",
    "      print 'Loss at step', step, ':', l\n",
    "      print 'Training accuracy: %.1f%%' % accuracy(predictions, y_train)\n",
    "  print 'Test accuracy: %.1f%%' % accuracy(test_prediction.eval(), y_test)"
   ]
  },
  {
   "cell_type": "code",
   "execution_count": 6,
   "metadata": {
    "collapsed": false
   },
   "outputs": [],
   "source": [
    "batch_size = 128\n",
    "\n",
    "graph = tf.Graph()\n",
    "with graph.as_default():\n",
    "    # Input data. For the training data, we use a placeholder that will be fed\n",
    "    # at run time with a training minibatch.\n",
    "    Xtr = tf.placeholder(tf.float32, shape=(batch_size, 117))\n",
    "    ytr = tf.placeholder(tf.float32, shape=(batch_size, 2))\n",
    "    Xts = tf.constant(X_test)\n",
    "    \n",
    "    weights = tf.Variable(tf.truncated_normal([117, 2]))\n",
    "    biases  = tf.Variable(tf.zeros([2]))\n",
    "\n",
    "    logits = tf.matmul(Xtr, weights) + biases\n",
    "    loss = tf.reduce_mean(tf.nn.softmax_cross_entropy_with_logits(logits, ytr))\n",
    "\n",
    "    optimizer = tf.train.GradientDescentOptimizer(0.05).minimize(loss)\n",
    "\n",
    "    train_prediction = tf.nn.softmax(logits)\n",
    "    test_prediction = tf.nn.softmax(tf.matmul(Xts, weights) + biases)"
   ]
  },
  {
   "cell_type": "code",
   "execution_count": 7,
   "metadata": {
    "collapsed": false
   },
   "outputs": [
    {
     "name": "stdout",
     "output_type": "stream",
     "text": [
      "Initialized\n",
      "Minibatch loss at step 0 : 1.79163\n",
      "Minibatch accuracy: 46.9%\n",
      "Minibatch loss at step 500 : 0.0949247\n",
      "Minibatch accuracy: 96.9%\n",
      "Minibatch loss at step 1000 : 0.0524768\n",
      "Minibatch accuracy: 97.7%\n",
      "Minibatch loss at step 1500 : 0.0319975\n",
      "Minibatch accuracy: 100.0%\n",
      "Minibatch loss at step 2000 : 0.0406476\n",
      "Minibatch accuracy: 99.2%\n",
      "Minibatch loss at step 2500 : 0.0424642\n",
      "Minibatch accuracy: 98.4%\n",
      "Minibatch loss at step 3000 : 0.0240518\n",
      "Minibatch accuracy: 99.2%\n",
      "Test accuracy: 99.2%\n"
     ]
    }
   ],
   "source": [
    "num_steps = 3001\n",
    "\n",
    "with tf.Session(graph=graph) as session:\n",
    "  tf.initialize_all_variables().run()\n",
    "  print \"Initialized\"\n",
    "  for step in xrange(num_steps):\n",
    "    # Pick an offset within the training data, which has been randomized.\n",
    "    # Note: we could use better randomization across epochs.\n",
    "    offset = (step * batch_size) % (y_train.shape[0] - batch_size)\n",
    "    # Generate a minibatch.\n",
    "    batch_data = X_train[offset:(offset + batch_size), :]\n",
    "    batch_labels = y_train[offset:(offset + batch_size)]\n",
    "    # Prepare a dictionary telling the session where to feed the minibatch.\n",
    "    # The key of the dictionary is the placeholder node of the graph to be fed,\n",
    "    # and the value is the numpy array to feed to it.\n",
    "    feed_dict = {Xtr : batch_data, ytr : batch_labels}\n",
    "    _, l, predictions = session.run([optimizer, loss, train_prediction], feed_dict=feed_dict)\n",
    "    if (step % 500 == 0):\n",
    "      print \"Minibatch loss at step\", step, \":\", l\n",
    "      print \"Minibatch accuracy: %.1f%%\" % accuracy(predictions, batch_labels)\n",
    "  print \"Test accuracy: %.1f%%\" % accuracy(test_prediction.eval(), y_test)"
   ]
  },
  {
   "cell_type": "code",
   "execution_count": 8,
   "metadata": {
    "collapsed": false
   },
   "outputs": [],
   "source": [
    "batch_size = 100\n",
    "\n",
    "graph = tf.Graph()\n",
    "with graph.as_default():\n",
    "    Xtr = tf.placeholder(tf.float32, shape=(batch_size, num_features))\n",
    "    ytr = tf.placeholder(tf.float32, shape=(batch_size, num_labels))\n",
    "    Xts = tf.constant(X_test)\n",
    "    \n",
    "    w1 = tf.Variable(tf.truncated_normal([num_features, 10]))\n",
    "    b1 = tf.Variable(tf.zeros([10]))\n",
    "    w2 = tf.Variable(tf.truncated_normal([10, num_labels]))\n",
    "    b2 = tf.Variable(tf.zeros([num_labels]))\n",
    "    \n",
    "    a1 = tf.nn.relu(tf.matmul(Xtr, w1) + b1)\n",
    "    logits = tf.matmul(a1, w2) + b2\n",
    "    loss = tf.reduce_mean(tf.nn.softmax_cross_entropy_with_logits(logits, ytr))\n",
    "    \n",
    "    regularizer = (tf.nn.l2_loss(w1) + tf.nn.l2_loss(b1) + \n",
    "                   tf.nn.l2_loss(w2) + tf.nn.l2_loss(b2))\n",
    "  \n",
    "    loss += 0.005 * regularizer\n",
    "\n",
    "    optimizer = tf.train.AdamOptimizer().minimize(loss)\n",
    "\n",
    "    train_prediction = tf.nn.softmax(logits)\n",
    "    test_prediction = tf.nn.softmax(tf.matmul(tf.nn.relu(tf.matmul(Xts, w1) + b1), w2) + b2)"
   ]
  },
  {
   "cell_type": "code",
   "execution_count": 9,
   "metadata": {
    "collapsed": false
   },
   "outputs": [
    {
     "name": "stdout",
     "output_type": "stream",
     "text": [
      "Initialized\n",
      "Minibatch loss at step 0 : 3.13414\n",
      "Minibatch accuracy: 72.0%\n",
      "Minibatch loss at step 500 : 1.29038\n",
      "Minibatch accuracy: 98.0%\n",
      "Minibatch loss at step 1000 : 0.663984\n",
      "Minibatch accuracy: 100.0%\n",
      "Minibatch loss at step 1500 : 0.34532\n",
      "Minibatch accuracy: 100.0%\n",
      "Minibatch loss at step 2000 : 0.183898\n",
      "Minibatch accuracy: 100.0%\n",
      "Minibatch loss at step 2500 : 0.10729\n",
      "Minibatch accuracy: 100.0%\n",
      "Minibatch loss at step 3000 : 0.0718768\n",
      "Minibatch accuracy: 100.0%\n",
      "Test accuracy: 99.9%\n"
     ]
    }
   ],
   "source": [
    "num_steps = 3001\n",
    "\n",
    "with tf.Session(graph=graph) as session:\n",
    "  tf.initialize_all_variables().run()\n",
    "  print \"Initialized\"\n",
    "  for step in xrange(num_steps):\n",
    "    # Pick an offset within the training data, which has been randomized.\n",
    "    # Note: we could use better randomization across epochs.\n",
    "    offset = (step * batch_size) % (y_train.shape[0] - batch_size)\n",
    "    # Generate a minibatch.\n",
    "    batch_data = X_train[offset:(offset + batch_size), :]\n",
    "    batch_labels = y_train[offset:(offset + batch_size)]\n",
    "    # Prepare a dictionary telling the session where to feed the minibatch.\n",
    "    # The key of the dictionary is the placeholder node of the graph to be fed,\n",
    "    # and the value is the numpy array to feed to it.\n",
    "    feed_dict = {Xtr : batch_data, ytr : batch_labels}\n",
    "    _, l, predictions = session.run([optimizer, loss, train_prediction], feed_dict=feed_dict)\n",
    "    if (step % 500 == 0):\n",
    "      print \"Minibatch loss at step\", step, \":\", l\n",
    "      print \"Minibatch accuracy: %.1f%%\" % accuracy(predictions, batch_labels)\n",
    "  print \"Test accuracy: %.1f%%\" % accuracy(test_prediction.eval(), y_test)"
   ]
  },
  {
   "cell_type": "code",
   "execution_count": null,
   "metadata": {
    "collapsed": true
   },
   "outputs": [],
   "source": []
  }
 ],
 "metadata": {
  "kernelspec": {
   "display_name": "Python 2",
   "language": "python",
   "name": "python2"
  },
  "language_info": {
   "codemirror_mode": {
    "name": "ipython",
    "version": 2
   },
   "file_extension": ".py",
   "mimetype": "text/x-python",
   "name": "python",
   "nbconvert_exporter": "python",
   "pygments_lexer": "ipython2",
   "version": "2.7.11"
  }
 },
 "nbformat": 4,
 "nbformat_minor": 0
}
